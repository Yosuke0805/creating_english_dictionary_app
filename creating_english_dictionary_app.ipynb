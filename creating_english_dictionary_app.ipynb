{
  "nbformat": 4,
  "nbformat_minor": 0,
  "metadata": {
    "colab": {
      "provenance": []
    },
    "kernelspec": {
      "name": "python3",
      "display_name": "Python 3"
    },
    "language_info": {
      "name": "python"
    }
  },
  "cells": [
    {
      "cell_type": "code",
      "execution_count": null,
      "metadata": {
        "id": "hxrNeqaelJEs"
      },
      "outputs": [],
      "source": [
        "pip install -U -q google-generativeai"
      ]
    },
    {
      "cell_type": "code",
      "source": [
        "import pathlib\n",
        "import textwrap\n",
        "import time\n",
        "\n",
        "import google.generativeai as genai\n",
        "\n",
        "\n",
        "from IPython import display\n",
        "from IPython.display import Markdown\n",
        "\n",
        "def to_markdown(text):\n",
        "  text = text.replace('•', '  *')\n",
        "  return Markdown(textwrap.indent(text, '> ', predicate=lambda _: True))"
      ],
      "metadata": {
        "id": "ZTnyMAPtlYgO"
      },
      "execution_count": null,
      "outputs": []
    },
    {
      "cell_type": "code",
      "source": [
        "try:\n",
        "    # Used to securely store your API key\n",
        "    from google.colab import userdata\n",
        "\n",
        "    # Or use `os.getenv('API_KEY')` to fetch an environment variable.\n",
        "    GOOGLE_API_KEY=userdata.get('GOOGLE_API_KEY')\n",
        "except ImportError:\n",
        "    import os\n",
        "    GOOGLE_API_KEY = os.environ['GOOGLE_API_KEY']\n",
        "\n",
        "genai.configure(api_key=GOOGLE_API_KEY)"
      ],
      "metadata": {
        "id": "_X4pRZbIn4IW"
      },
      "execution_count": null,
      "outputs": []
    },
    {
      "cell_type": "code",
      "source": [
        "def multiply(a:float, b:float):\n",
        "    \"\"\"returns a * b.\"\"\"\n",
        "    return a*b\n",
        "\n",
        "model = genai.GenerativeModel(model_name='gemini-1.0-pro',\n",
        "                              tools=[multiply])\n",
        "\n",
        "model = genai.GenerativeModel(model_name='gemini-1.0-pro')\n",
        "\n",
        "model"
      ],
      "metadata": {
        "colab": {
          "base_uri": "https://localhost:8080/"
        },
        "id": "egpeoGNTvGPx",
        "outputId": "2fbf9b24-d6b6-4c1f-f3cf-75d9a391dff1"
      },
      "execution_count": null,
      "outputs": [
        {
          "output_type": "execute_result",
          "data": {
            "text/plain": [
              "genai.GenerativeModel(\n",
              "    model_name='models/gemini-1.0-pro',\n",
              "    generation_config={},\n",
              "    safety_settings={},\n",
              "    tools=None,\n",
              "    system_instruction=None,\n",
              ")"
            ]
          },
          "metadata": {},
          "execution_count": 4
        }
      ]
    },
    {
      "cell_type": "code",
      "source": [
        "new_word = input()"
      ],
      "metadata": {
        "colab": {
          "base_uri": "https://localhost:8080/"
        },
        "id": "veRKWlQzyT9W",
        "outputId": "9938f655-f511-42ce-8501-38a60739689e"
      },
      "execution_count": null,
      "outputs": [
        {
          "name": "stdout",
          "output_type": "stream",
          "text": [
            "professional\n"
          ]
        }
      ]
    },
    {
      "cell_type": "code",
      "source": [
        "prompt = f\"\"\"\n",
        "\n",
        "You are professional English teacher.\n",
        "I am Japanese learnig English and would like to improve my vocabulary.\n",
        "Now, I am facing new word and want you to tell me the following contents below.\n",
        "\n",
        "### new word\n",
        "{new_word}\n",
        "\n",
        "### contents\n",
        "\n",
        "- Japanese translation\n",
        "- English defenition\n",
        "- slang\n",
        "- example to use\n",
        "- synonyms\n",
        "\n",
        "\"\"\"\n",
        "\n",
        "chat = model.start_chat(enable_automatic_function_calling=True)\n",
        "response = chat.send_message(prompt)\n",
        "response.text"
      ],
      "metadata": {
        "colab": {
          "base_uri": "https://localhost:8080/",
          "height": 88
        },
        "id": "KT3d1KsYvGN0",
        "outputId": "09eaa6df-eee9-4483-e65b-b0c5be95e180"
      },
      "execution_count": null,
      "outputs": [
        {
          "output_type": "execute_result",
          "data": {
            "text/plain": [
              "'### New Word: Professional\\n\\n### Japanese Translation:\\nプロフェッショナル\\n\\n### English Definition:\\n- Someone who works in a specialized field and has a high level of expertise and training.\\n- Someone who exhibits a high standard of conduct and ethics in their work.\\n\\n### Slang:\\n- Pro\\n- Expert\\n- Guru\\n\\n### Examples to Use:\\n- My sister is a professional pianist.\\n- The doctor provided professional medical advice.\\n- The company hired a professional team to solve the technical issue.\\n- He always behaves in a professional manner, even under pressure.\\n\\n### Synonyms:\\n- Expert\\n- Specialist\\n- Skilled\\n- Competent\\n- Seasoned\\n- Proficient'"
            ],
            "application/vnd.google.colaboratory.intrinsic+json": {
              "type": "string"
            }
          },
          "metadata": {},
          "execution_count": 6
        }
      ]
    },
    {
      "cell_type": "code",
      "source": [
        "for content in chat.history:\n",
        "    part = content.parts[0]\n",
        "    print(content.role, \"->\", type(part).to_dict(part))\n",
        "    print('-'*80)"
      ],
      "metadata": {
        "colab": {
          "base_uri": "https://localhost:8080/"
        },
        "id": "CrJJqfz_vZL7",
        "outputId": "8c581337-482f-4639-90f8-f339465f9e79"
      },
      "execution_count": null,
      "outputs": [
        {
          "output_type": "stream",
          "name": "stdout",
          "text": [
            "user -> {'text': '\\n\\nYou are professional English teacher.\\nI am Japanese learnig English and would like to improve my vocabulary.\\nNow, I am facing new word and want you to tell me the following contents below.\\n\\n### new word\\nprofessional\\n\\n### contents\\n\\n- Japanese translation\\n- English defenition\\n- slang\\n- example to use\\n- synonyms\\n\\n'}\n",
            "--------------------------------------------------------------------------------\n",
            "model -> {'text': '### New Word: Professional\\n\\n### Japanese Translation:\\nプロフェッショナル\\n\\n### English Definition:\\n- Someone who works in a specialized field and has a high level of expertise and training.\\n- Someone who exhibits a high standard of conduct and ethics in their work.\\n\\n### Slang:\\n- Pro\\n- Expert\\n- Guru\\n\\n### Examples to Use:\\n- My sister is a professional pianist.\\n- The doctor provided professional medical advice.\\n- The company hired a professional team to solve the technical issue.\\n- He always behaves in a professional manner, even under pressure.\\n\\n### Synonyms:\\n- Expert\\n- Specialist\\n- Skilled\\n- Competent\\n- Seasoned\\n- Proficient'}\n",
            "--------------------------------------------------------------------------------\n"
          ]
        }
      ]
    },
    {
      "cell_type": "code",
      "source": [],
      "metadata": {
        "id": "V5AcAQ9Kw21D"
      },
      "execution_count": null,
      "outputs": []
    }
  ]
}